{
  "nbformat": 4,
  "nbformat_minor": 0,
  "metadata": {
    "colab": {
      "provenance": [],
      "gpuType": "T4",
      "mount_file_id": "1NjqgGvuTAa1yUOt8eP3N4yxtMkCkJ7H2",
      "authorship_tag": "ABX9TyPMovXZ6qLA8dSY5brn5tK7",
      "include_colab_link": true
    },
    "kernelspec": {
      "name": "python3",
      "display_name": "Python 3"
    },
    "language_info": {
      "name": "python"
    },
    "accelerator": "GPU"
  },
  "cells": [
    {
      "cell_type": "markdown",
      "metadata": {
        "id": "view-in-github",
        "colab_type": "text"
      },
      "source": [
        "<a href=\"https://colab.research.google.com/github/RafsanJany-44/SIgnal_Processing/blob/main/Signal_Processing_1.ipynb\" target=\"_parent\"><img src=\"https://colab.research.google.com/assets/colab-badge.svg\" alt=\"Open In Colab\"/></a>"
      ]
    },
    {
      "cell_type": "markdown",
      "source": [
        "https://github.com/talhaanwarch/youtube-tutorials"
      ],
      "metadata": {
        "id": "Fx4Ri4CVtJiC"
      }
    },
    {
      "cell_type": "code",
      "source": [
        "import tensorflow as tf\n",
        "physical_devices = tf.config.list_physical_devices('GPU')\n",
        "tf.config.experimental.set_memory_growth(physical_devices[0], enable=True)"
      ],
      "metadata": {
        "id": "6jBFZXhKxwbV"
      },
      "execution_count": 1,
      "outputs": []
    },
    {
      "cell_type": "code",
      "source": [
        "!pip install mne"
      ],
      "metadata": {
        "colab": {
          "base_uri": "https://localhost:8080/"
        },
        "id": "AQSiEoedDCPu",
        "outputId": "1564fb04-81f0-4d2b-a217-a6004872d832"
      },
      "execution_count": 2,
      "outputs": [
        {
          "output_type": "stream",
          "name": "stdout",
          "text": [
            "Collecting mne\n",
            "  Downloading mne-1.5.1-py3-none-any.whl (7.7 MB)\n",
            "\u001b[2K     \u001b[90m━━━━━━━━━━━━━━━━━━━━━━━━━━━━━━━━━━━━━━━━\u001b[0m \u001b[32m7.7/7.7 MB\u001b[0m \u001b[31m23.8 MB/s\u001b[0m eta \u001b[36m0:00:00\u001b[0m\n",
            "\u001b[?25hRequirement already satisfied: numpy>=1.15.4 in /usr/local/lib/python3.10/dist-packages (from mne) (1.23.5)\n",
            "Requirement already satisfied: scipy>=1.6.3 in /usr/local/lib/python3.10/dist-packages (from mne) (1.11.3)\n",
            "Requirement already satisfied: matplotlib>=3.4.0 in /usr/local/lib/python3.10/dist-packages (from mne) (3.7.1)\n",
            "Requirement already satisfied: tqdm in /usr/local/lib/python3.10/dist-packages (from mne) (4.66.1)\n",
            "Requirement already satisfied: pooch>=1.5 in /usr/local/lib/python3.10/dist-packages (from mne) (1.8.0)\n",
            "Requirement already satisfied: decorator in /usr/local/lib/python3.10/dist-packages (from mne) (4.4.2)\n",
            "Requirement already satisfied: packaging in /usr/local/lib/python3.10/dist-packages (from mne) (23.2)\n",
            "Requirement already satisfied: jinja2 in /usr/local/lib/python3.10/dist-packages (from mne) (3.1.2)\n",
            "Requirement already satisfied: contourpy>=1.0.1 in /usr/local/lib/python3.10/dist-packages (from matplotlib>=3.4.0->mne) (1.2.0)\n",
            "Requirement already satisfied: cycler>=0.10 in /usr/local/lib/python3.10/dist-packages (from matplotlib>=3.4.0->mne) (0.12.1)\n",
            "Requirement already satisfied: fonttools>=4.22.0 in /usr/local/lib/python3.10/dist-packages (from matplotlib>=3.4.0->mne) (4.44.0)\n",
            "Requirement already satisfied: kiwisolver>=1.0.1 in /usr/local/lib/python3.10/dist-packages (from matplotlib>=3.4.0->mne) (1.4.5)\n",
            "Requirement already satisfied: pillow>=6.2.0 in /usr/local/lib/python3.10/dist-packages (from matplotlib>=3.4.0->mne) (9.4.0)\n",
            "Requirement already satisfied: pyparsing>=2.3.1 in /usr/local/lib/python3.10/dist-packages (from matplotlib>=3.4.0->mne) (3.1.1)\n",
            "Requirement already satisfied: python-dateutil>=2.7 in /usr/local/lib/python3.10/dist-packages (from matplotlib>=3.4.0->mne) (2.8.2)\n",
            "Requirement already satisfied: platformdirs>=2.5.0 in /usr/local/lib/python3.10/dist-packages (from pooch>=1.5->mne) (3.11.0)\n",
            "Requirement already satisfied: requests>=2.19.0 in /usr/local/lib/python3.10/dist-packages (from pooch>=1.5->mne) (2.31.0)\n",
            "Requirement already satisfied: MarkupSafe>=2.0 in /usr/local/lib/python3.10/dist-packages (from jinja2->mne) (2.1.3)\n",
            "Requirement already satisfied: six>=1.5 in /usr/local/lib/python3.10/dist-packages (from python-dateutil>=2.7->matplotlib>=3.4.0->mne) (1.16.0)\n",
            "Requirement already satisfied: charset-normalizer<4,>=2 in /usr/local/lib/python3.10/dist-packages (from requests>=2.19.0->pooch>=1.5->mne) (3.3.2)\n",
            "Requirement already satisfied: idna<4,>=2.5 in /usr/local/lib/python3.10/dist-packages (from requests>=2.19.0->pooch>=1.5->mne) (3.4)\n",
            "Requirement already satisfied: urllib3<3,>=1.21.1 in /usr/local/lib/python3.10/dist-packages (from requests>=2.19.0->pooch>=1.5->mne) (2.0.7)\n",
            "Requirement already satisfied: certifi>=2017.4.17 in /usr/local/lib/python3.10/dist-packages (from requests>=2.19.0->pooch>=1.5->mne) (2023.7.22)\n",
            "Installing collected packages: mne\n",
            "Successfully installed mne-1.5.1\n"
          ]
        }
      ]
    },
    {
      "cell_type": "code",
      "execution_count": 3,
      "metadata": {
        "id": "EPPCKjWeChJs"
      },
      "outputs": [],
      "source": [
        "from glob import glob\n",
        "import os\n",
        "import mne\n",
        "import pandas\n",
        "import numpy as np\n",
        "import matplotlib.pyplot as plt"
      ]
    },
    {
      "cell_type": "code",
      "source": [
        "data_path = \"/content/drive/MyDrive/Signal_Data/dataverse_files\""
      ],
      "metadata": {
        "id": "aom4xKvEC57E"
      },
      "execution_count": 4,
      "outputs": []
    },
    {
      "cell_type": "code",
      "source": [
        "all_file_path = glob(data_path+\"/*.edf\")\n",
        "print(len(all_file_path))"
      ],
      "metadata": {
        "colab": {
          "base_uri": "https://localhost:8080/"
        },
        "id": "e2ucexuQDWiH",
        "outputId": "a3b85be5-7b5c-45e8-9578-5e5bc019d221"
      },
      "execution_count": 5,
      "outputs": [
        {
          "output_type": "stream",
          "name": "stdout",
          "text": [
            "28\n"
          ]
        }
      ]
    },
    {
      "cell_type": "code",
      "source": [
        "all_file_path"
      ],
      "metadata": {
        "colab": {
          "base_uri": "https://localhost:8080/"
        },
        "id": "w0v0ajItDuXR",
        "outputId": "480074e9-d678-47e3-e9a1-5aae83528119"
      },
      "execution_count": 6,
      "outputs": [
        {
          "output_type": "execute_result",
          "data": {
            "text/plain": [
              "['/content/drive/MyDrive/Signal_Data/dataverse_files/h12.edf',\n",
              " '/content/drive/MyDrive/Signal_Data/dataverse_files/h05.edf',\n",
              " '/content/drive/MyDrive/Signal_Data/dataverse_files/h06.edf',\n",
              " '/content/drive/MyDrive/Signal_Data/dataverse_files/h04.edf',\n",
              " '/content/drive/MyDrive/Signal_Data/dataverse_files/h08.edf',\n",
              " '/content/drive/MyDrive/Signal_Data/dataverse_files/h09.edf',\n",
              " '/content/drive/MyDrive/Signal_Data/dataverse_files/h11.edf',\n",
              " '/content/drive/MyDrive/Signal_Data/dataverse_files/h02.edf',\n",
              " '/content/drive/MyDrive/Signal_Data/dataverse_files/h07.edf',\n",
              " '/content/drive/MyDrive/Signal_Data/dataverse_files/h03.edf',\n",
              " '/content/drive/MyDrive/Signal_Data/dataverse_files/h01.edf',\n",
              " '/content/drive/MyDrive/Signal_Data/dataverse_files/h10.edf',\n",
              " '/content/drive/MyDrive/Signal_Data/dataverse_files/s01.edf',\n",
              " '/content/drive/MyDrive/Signal_Data/dataverse_files/s07.edf',\n",
              " '/content/drive/MyDrive/Signal_Data/dataverse_files/h13.edf',\n",
              " '/content/drive/MyDrive/Signal_Data/dataverse_files/h14.edf',\n",
              " '/content/drive/MyDrive/Signal_Data/dataverse_files/s05.edf',\n",
              " '/content/drive/MyDrive/Signal_Data/dataverse_files/s04.edf',\n",
              " '/content/drive/MyDrive/Signal_Data/dataverse_files/s06.edf',\n",
              " '/content/drive/MyDrive/Signal_Data/dataverse_files/s03.edf',\n",
              " '/content/drive/MyDrive/Signal_Data/dataverse_files/s09.edf',\n",
              " '/content/drive/MyDrive/Signal_Data/dataverse_files/s08.edf',\n",
              " '/content/drive/MyDrive/Signal_Data/dataverse_files/s02.edf',\n",
              " '/content/drive/MyDrive/Signal_Data/dataverse_files/s11.edf',\n",
              " '/content/drive/MyDrive/Signal_Data/dataverse_files/s14.edf',\n",
              " '/content/drive/MyDrive/Signal_Data/dataverse_files/s12.edf',\n",
              " '/content/drive/MyDrive/Signal_Data/dataverse_files/s10.edf',\n",
              " '/content/drive/MyDrive/Signal_Data/dataverse_files/s13.edf']"
            ]
          },
          "metadata": {},
          "execution_count": 6
        }
      ]
    },
    {
      "cell_type": "code",
      "source": [
        "healthy_file_path = []\n",
        "patient_file_path = []\n",
        "\n",
        "for i in all_file_path:\n",
        "  if str(os.path.basename(i))[0] == 'h':\n",
        "    healthy_file_path.append(i)\n",
        "  else:\n",
        "    patient_file_path.append(i)"
      ],
      "metadata": {
        "id": "GlVpNrHSFTNR"
      },
      "execution_count": 7,
      "outputs": []
    },
    {
      "cell_type": "code",
      "source": [
        "def read_data(file_path):\n",
        "  data = mne.io.read_raw_edf(file_path, preload=True)\n",
        "  data.set_eeg_reference()\n",
        "  data.filter(l_freq=0.5,h_freq=45)\n",
        "  epochs=mne.make_fixed_length_epochs(data,duration=5,overlap=1)\n",
        "  array=epochs.get_data()\n",
        "  return array"
      ],
      "metadata": {
        "id": "DgXGbLeIF3DY"
      },
      "execution_count": 8,
      "outputs": []
    },
    {
      "cell_type": "code",
      "source": [
        "\n",
        "sample_data = read_data(healthy_file_path[0])"
      ],
      "metadata": {
        "colab": {
          "base_uri": "https://localhost:8080/"
        },
        "id": "r0QKAcRxkGCs",
        "outputId": "86a6eaaa-74cb-42ae-a3cb-b397846404b1"
      },
      "execution_count": 9,
      "outputs": [
        {
          "output_type": "stream",
          "name": "stdout",
          "text": [
            "Extracting EDF parameters from /content/drive/MyDrive/Signal_Data/dataverse_files/h12.edf...\n",
            "EDF file detected\n",
            "Setting channel info structure...\n",
            "Creating raw.info structure...\n",
            "Reading 0 ... 224999  =      0.000 ...   899.996 secs...\n",
            "EEG channel type selected for re-referencing\n",
            "Applying average reference.\n",
            "Applying a custom ('EEG',) reference.\n",
            "Filtering raw data in 1 contiguous segment\n",
            "Setting up band-pass filter from 0.5 - 45 Hz\n",
            "\n",
            "FIR filter parameters\n",
            "---------------------\n",
            "Designing a one-pass, zero-phase, non-causal bandpass filter:\n",
            "- Windowed time-domain design (firwin) method\n",
            "- Hamming window with 0.0194 passband ripple and 53 dB stopband attenuation\n",
            "- Lower passband edge: 0.50\n",
            "- Lower transition bandwidth: 0.50 Hz (-6 dB cutoff frequency: 0.25 Hz)\n",
            "- Upper passband edge: 45.00 Hz\n",
            "- Upper transition bandwidth: 11.25 Hz (-6 dB cutoff frequency: 50.62 Hz)\n",
            "- Filter length: 1651 samples (6.604 s)\n",
            "\n",
            "Not setting metadata\n",
            "224 matching events found\n",
            "No baseline correction applied\n",
            "0 projection items activated\n",
            "Using data from preloaded Raw for 224 events and 1250 original time points ...\n",
            "0 bad epochs dropped\n"
          ]
        },
        {
          "output_type": "stream",
          "name": "stderr",
          "text": [
            "[Parallel(n_jobs=1)]: Done  17 tasks      | elapsed:    0.2s\n"
          ]
        }
      ]
    },
    {
      "cell_type": "code",
      "source": [
        "sample_data.shape   #epochs,channels, length of signals"
      ],
      "metadata": {
        "colab": {
          "base_uri": "https://localhost:8080/"
        },
        "id": "WAUwgK8RlO-L",
        "outputId": "9177cf37-b897-4d75-c542-f256e71f5133"
      },
      "execution_count": 10,
      "outputs": [
        {
          "output_type": "execute_result",
          "data": {
            "text/plain": [
              "(224, 19, 1250)"
            ]
          },
          "metadata": {},
          "execution_count": 10
        }
      ]
    },
    {
      "cell_type": "code",
      "source": [
        "%%capture\n",
        "control_epochs_array = []\n",
        "patient_epochs_array = []\n",
        "\n",
        "for i in healthy_file_path:\n",
        "  control_epochs_array.append(read_data(i))\n",
        "\n",
        "for i in patient_file_path:\n",
        "  patient_epochs_array.append(read_data(i))"
      ],
      "metadata": {
        "id": "CF-K72Blr6uI"
      },
      "execution_count": 11,
      "outputs": []
    },
    {
      "cell_type": "code",
      "source": [
        "control_epochs_array[0].shape"
      ],
      "metadata": {
        "colab": {
          "base_uri": "https://localhost:8080/"
        },
        "id": "q_NcNYjXtabF",
        "outputId": "d16cafec-58e6-42cf-dde0-cf5186df1e9c"
      },
      "execution_count": 12,
      "outputs": [
        {
          "output_type": "execute_result",
          "data": {
            "text/plain": [
              "(224, 19, 1250)"
            ]
          },
          "metadata": {},
          "execution_count": 12
        }
      ]
    },
    {
      "cell_type": "code",
      "source": [
        "patient_epochs_array[0].shape"
      ],
      "metadata": {
        "id": "jGbaFskwt8bt",
        "outputId": "7b606fa4-c5f8-4b8d-e00b-231b0e48488c",
        "colab": {
          "base_uri": "https://localhost:8080/"
        }
      },
      "execution_count": 13,
      "outputs": [
        {
          "output_type": "execute_result",
          "data": {
            "text/plain": [
              "(211, 19, 1250)"
            ]
          },
          "metadata": {},
          "execution_count": 13
        }
      ]
    },
    {
      "cell_type": "code",
      "source": [],
      "metadata": {
        "id": "asgAbkcrBedl"
      },
      "execution_count": 13,
      "outputs": []
    },
    {
      "cell_type": "code",
      "source": [
        "\n",
        "#labeling control as 0. -> Unhealthy\n",
        "control_epochs_labels = []\n",
        "for i in control_epochs_array:\n",
        "  control_epochs_labels.append(len(i)*[0])\n",
        "\n",
        "\n",
        "#labeling healthy as 1. -> Unhealthy\n",
        "patients_epochs_labels = []\n",
        "for i in patient_epochs_array:\n",
        "  patients_epochs_labels.append(len(i)*[1])\n",
        "\n",
        "print(len(control_epochs_labels),len(patients_epochs_labels))"
      ],
      "metadata": {
        "id": "4ylz3yawt_bG",
        "colab": {
          "base_uri": "https://localhost:8080/"
        },
        "outputId": "006b6822-080d-4f9f-be9f-3eef8ff1f711"
      },
      "execution_count": 14,
      "outputs": [
        {
          "output_type": "stream",
          "name": "stdout",
          "text": [
            "14 14\n"
          ]
        }
      ]
    },
    {
      "cell_type": "code",
      "source": [
        "data_list=control_epochs_array+patient_epochs_array\n",
        "label_list=control_epochs_labels+patients_epochs_labels"
      ],
      "metadata": {
        "id": "dsLjlDDmCVD3"
      },
      "execution_count": 15,
      "outputs": []
    },
    {
      "cell_type": "code",
      "source": [
        "#spliting data as subject, makig group for each subject\n",
        "\n",
        "group_list = []\n",
        "\n",
        "\n",
        "for i,j in enumerate(data_list):\n",
        "  group_list.append([i]*len(j))\n",
        "\n",
        "len(group_list)\n",
        "\n",
        "\n"
      ],
      "metadata": {
        "colab": {
          "base_uri": "https://localhost:8080/"
        },
        "id": "B6V45zXkDIEU",
        "outputId": "edea560c-cd74-4778-caa3-b829347c5c4f"
      },
      "execution_count": 16,
      "outputs": [
        {
          "output_type": "execute_result",
          "data": {
            "text/plain": [
              "28"
            ]
          },
          "metadata": {},
          "execution_count": 16
        }
      ]
    },
    {
      "cell_type": "code",
      "source": [
        "data_array = np.vstack(data_list)\n",
        "label_array = np.hstack(label_list)\n",
        "group_array = np.hstack(group_list)\n",
        "data_array.shape,label_array.shape,group_array.shape"
      ],
      "metadata": {
        "colab": {
          "base_uri": "https://localhost:8080/"
        },
        "id": "H6WEfsYZwCJm",
        "outputId": "04cd680f-72c0-4e5a-8d3a-3b38169c625f"
      },
      "execution_count": 17,
      "outputs": [
        {
          "output_type": "execute_result",
          "data": {
            "text/plain": [
              "((7201, 19, 1250), (7201,), (7201,))"
            ]
          },
          "metadata": {},
          "execution_count": 17
        }
      ]
    },
    {
      "cell_type": "code",
      "source": [
        "from tensorflow.keras.layers import Conv1D,BatchNormalization,LeakyReLU,MaxPool1D,\\\n",
        "GlobalAveragePooling1D,Dense,Dropout,AveragePooling1D\n",
        "from tensorflow.keras.models import Sequential\n",
        "from tensorflow.keras.backend import clear_session\n",
        "def cnnmodel():\n",
        "    clear_session()\n",
        "    model=Sequential()\n",
        "    model.add(Conv1D(filters=5,kernel_size=3,strides=1,input_shape=(19,1250)))#1\n",
        "    model.add(BatchNormalization())\n",
        "    model.add(LeakyReLU())\n",
        "    model.add(MaxPool1D(pool_size=2,strides=2))#2\n",
        "    model.add(Conv1D(filters=5,kernel_size=3,strides=1))#3\n",
        "    model.add(LeakyReLU())\n",
        "    model.add(MaxPool1D(pool_size=2,strides=2))#4\n",
        "    model.add(Dropout(0.5))\n",
        "    model.add(Conv1D(filters=5,kernel_size=3,strides=1))#5\n",
        "    model.add(LeakyReLU())\n",
        "    #model.add(AveragePooling1D(pool_size=2,strides=2))#6\n",
        "    model.add(Dropout(0.5))\n",
        "    #model.add(Conv1D(filters=5,kernel_size=3,strides=1))#7\n",
        "    model.add(LeakyReLU())\n",
        "    #model.add(AveragePooling1D(pool_size=2,strides=2))#8\n",
        "    #model.add(Conv1D(filters=5,kernel_size=3,strides=1))#9\n",
        "    model.add(LeakyReLU())\n",
        "    model.add(GlobalAveragePooling1D())#10\n",
        "    model.add(Dense(1,activation='sigmoid'))#11\n",
        "\n",
        "    model.compile('adam',loss='binary_crossentropy',metrics=['accuracy'])\n",
        "    return model\n",
        "\n",
        "model=cnnmodel()\n",
        "model.summary()"
      ],
      "metadata": {
        "colab": {
          "base_uri": "https://localhost:8080/"
        },
        "id": "PhsDf2RqwWxt",
        "outputId": "70081c58-1df9-4631-8bdc-1d85cc18a110"
      },
      "execution_count": 24,
      "outputs": [
        {
          "output_type": "stream",
          "name": "stdout",
          "text": [
            "Model: \"sequential\"\n",
            "_________________________________________________________________\n",
            " Layer (type)                Output Shape              Param #   \n",
            "=================================================================\n",
            " conv1d (Conv1D)             (None, 17, 5)             18755     \n",
            "                                                                 \n",
            " batch_normalization (Batch  (None, 17, 5)             20        \n",
            " Normalization)                                                  \n",
            "                                                                 \n",
            " leaky_re_lu (LeakyReLU)     (None, 17, 5)             0         \n",
            "                                                                 \n",
            " max_pooling1d (MaxPooling1  (None, 8, 5)              0         \n",
            " D)                                                              \n",
            "                                                                 \n",
            " conv1d_1 (Conv1D)           (None, 6, 5)              80        \n",
            "                                                                 \n",
            " leaky_re_lu_1 (LeakyReLU)   (None, 6, 5)              0         \n",
            "                                                                 \n",
            " max_pooling1d_1 (MaxPoolin  (None, 3, 5)              0         \n",
            " g1D)                                                            \n",
            "                                                                 \n",
            " dropout (Dropout)           (None, 3, 5)              0         \n",
            "                                                                 \n",
            " conv1d_2 (Conv1D)           (None, 1, 5)              80        \n",
            "                                                                 \n",
            " leaky_re_lu_2 (LeakyReLU)   (None, 1, 5)              0         \n",
            "                                                                 \n",
            " dropout_1 (Dropout)         (None, 1, 5)              0         \n",
            "                                                                 \n",
            " leaky_re_lu_3 (LeakyReLU)   (None, 1, 5)              0         \n",
            "                                                                 \n",
            " leaky_re_lu_4 (LeakyReLU)   (None, 1, 5)              0         \n",
            "                                                                 \n",
            " global_average_pooling1d (  (None, 5)                 0         \n",
            " GlobalAveragePooling1D)                                         \n",
            "                                                                 \n",
            " dense (Dense)               (None, 1)                 6         \n",
            "                                                                 \n",
            "=================================================================\n",
            "Total params: 18941 (73.99 KB)\n",
            "Trainable params: 18931 (73.95 KB)\n",
            "Non-trainable params: 10 (40.00 Byte)\n",
            "_________________________________________________________________\n"
          ]
        }
      ]
    },
    {
      "cell_type": "code",
      "source": [
        "from sklearn.model_selection import GroupKFold,LeaveOneGroupOut\n",
        "from sklearn.preprocessing import StandardScaler\n",
        "gkf=GroupKFold()"
      ],
      "metadata": {
        "id": "FC9SBwofwXdF"
      },
      "execution_count": 25,
      "outputs": []
    },
    {
      "cell_type": "code",
      "source": [
        "accuracy=[]\n",
        "for train_index, val_index in gkf.split(data_array, label_array, groups=group_array):\n",
        "    train_features,train_labels=data_array[train_index],label_array[train_index]\n",
        "    val_features,val_labels=data_array[val_index],label_array[val_index]\n",
        "    scaler=StandardScaler()\n",
        "    train_features = scaler.fit_transform(train_features.reshape(-1, train_features.shape[-1])).reshape(train_features.shape)\n",
        "    val_features = scaler.transform(val_features.reshape(-1, val_features.shape[-1])).reshape(val_features.shape)\n",
        "    model=cnnmodel()\n",
        "    model.fit(train_features,train_labels,epochs=50,batch_size=10,validation_data=(val_features,val_labels))\n",
        "    accuracy.append(model.evaluate(val_features,val_labels)[1])"
      ],
      "metadata": {
        "colab": {
          "base_uri": "https://localhost:8080/"
        },
        "id": "QL66UepUwXX5",
        "outputId": "14b3d0bd-8e78-4537-af98-e1d067227269"
      },
      "execution_count": null,
      "outputs": [
        {
          "output_type": "stream",
          "name": "stdout",
          "text": [
            "Epoch 1/50\n",
            "575/575 [==============================] - 18s 10ms/step - loss: 0.7086 - accuracy: 0.5707 - val_loss: 0.7183 - val_accuracy: 0.3693\n",
            "Epoch 2/50\n",
            "575/575 [==============================] - 4s 6ms/step - loss: 0.6767 - accuracy: 0.5944 - val_loss: 0.7313 - val_accuracy: 0.3699\n",
            "Epoch 3/50\n",
            "575/575 [==============================] - 4s 6ms/step - loss: 0.6704 - accuracy: 0.5931 - val_loss: 0.7455 - val_accuracy: 0.3713\n",
            "Epoch 4/50\n",
            "575/575 [==============================] - 4s 8ms/step - loss: 0.6684 - accuracy: 0.5961 - val_loss: 0.7427 - val_accuracy: 0.3686\n",
            "Epoch 5/50\n",
            "575/575 [==============================] - 4s 6ms/step - loss: 0.6656 - accuracy: 0.5963 - val_loss: 0.7444 - val_accuracy: 0.3693\n",
            "Epoch 6/50\n",
            "575/575 [==============================] - 4s 7ms/step - loss: 0.6647 - accuracy: 0.5949 - val_loss: 0.7373 - val_accuracy: 0.3699\n",
            "Epoch 7/50\n",
            "575/575 [==============================] - 4s 7ms/step - loss: 0.6597 - accuracy: 0.5938 - val_loss: 0.7296 - val_accuracy: 0.3720\n",
            "Epoch 8/50\n",
            "575/575 [==============================] - 4s 7ms/step - loss: 0.6581 - accuracy: 0.5968 - val_loss: 0.7366 - val_accuracy: 0.3686\n",
            "Epoch 9/50\n",
            "575/575 [==============================] - 4s 7ms/step - loss: 0.6510 - accuracy: 0.6057 - val_loss: 0.7298 - val_accuracy: 0.3699\n",
            "Epoch 10/50\n",
            "575/575 [==============================] - 4s 6ms/step - loss: 0.6505 - accuracy: 0.6065 - val_loss: 0.7426 - val_accuracy: 0.3686\n",
            "Epoch 11/50\n",
            "575/575 [==============================] - 5s 8ms/step - loss: 0.6428 - accuracy: 0.6182 - val_loss: 0.7373 - val_accuracy: 0.3734\n",
            "Epoch 12/50\n",
            "575/575 [==============================] - 4s 7ms/step - loss: 0.6338 - accuracy: 0.6201 - val_loss: 0.7210 - val_accuracy: 0.4043\n",
            "Epoch 13/50\n",
            "575/575 [==============================] - 4s 6ms/step - loss: 0.6277 - accuracy: 0.6358 - val_loss: 0.7460 - val_accuracy: 0.4084\n",
            "Epoch 14/50\n",
            "575/575 [==============================] - 4s 7ms/step - loss: 0.6129 - accuracy: 0.6504 - val_loss: 0.7464 - val_accuracy: 0.4303\n",
            "Epoch 15/50\n",
            "575/575 [==============================] - 4s 7ms/step - loss: 0.6080 - accuracy: 0.6539 - val_loss: 0.7461 - val_accuracy: 0.4269\n",
            "Epoch 16/50\n",
            "575/575 [==============================] - 4s 6ms/step - loss: 0.6040 - accuracy: 0.6567 - val_loss: 0.7062 - val_accuracy: 0.5395\n",
            "Epoch 17/50\n",
            "575/575 [==============================] - 4s 6ms/step - loss: 0.6004 - accuracy: 0.6656 - val_loss: 0.7182 - val_accuracy: 0.5168\n",
            "Epoch 18/50\n",
            "575/575 [==============================] - 5s 8ms/step - loss: 0.5923 - accuracy: 0.6675 - val_loss: 0.7941 - val_accuracy: 0.4550\n",
            "Epoch 19/50\n",
            "575/575 [==============================] - 4s 6ms/step - loss: 0.5750 - accuracy: 0.6823 - val_loss: 0.7550 - val_accuracy: 0.5333\n",
            "Epoch 20/50\n",
            "575/575 [==============================] - 4s 6ms/step - loss: 0.5790 - accuracy: 0.6877 - val_loss: 0.7311 - val_accuracy: 0.5642\n",
            "Epoch 21/50\n",
            "575/575 [==============================] - 4s 7ms/step - loss: 0.5664 - accuracy: 0.6924 - val_loss: 0.7567 - val_accuracy: 0.5498\n",
            "Epoch 22/50\n",
            "575/575 [==============================] - 4s 6ms/step - loss: 0.5632 - accuracy: 0.6931 - val_loss: 0.8294 - val_accuracy: 0.5168\n",
            "Epoch 23/50\n",
            "575/575 [==============================] - 3s 6ms/step - loss: 0.5564 - accuracy: 0.7060 - val_loss: 0.7691 - val_accuracy: 0.5484\n",
            "Epoch 24/50\n",
            "575/575 [==============================] - 3s 6ms/step - loss: 0.5557 - accuracy: 0.7068 - val_loss: 0.8074 - val_accuracy: 0.5202\n",
            "Epoch 25/50\n",
            "575/575 [==============================] - 4s 8ms/step - loss: 0.5474 - accuracy: 0.7100 - val_loss: 0.7543 - val_accuracy: 0.5450\n",
            "Epoch 26/50\n",
            "575/575 [==============================] - 3s 6ms/step - loss: 0.5402 - accuracy: 0.7100 - val_loss: 0.7639 - val_accuracy: 0.5573\n",
            "Epoch 27/50\n",
            "575/575 [==============================] - 4s 7ms/step - loss: 0.5425 - accuracy: 0.7103 - val_loss: 0.8215 - val_accuracy: 0.5553\n",
            "Epoch 28/50\n",
            "575/575 [==============================] - 4s 7ms/step - loss: 0.5397 - accuracy: 0.7127 - val_loss: 0.7858 - val_accuracy: 0.5779\n",
            "Epoch 29/50\n",
            "575/575 [==============================] - 4s 6ms/step - loss: 0.5284 - accuracy: 0.7225 - val_loss: 0.8145 - val_accuracy: 0.5594\n",
            "Epoch 30/50\n",
            "575/575 [==============================] - 4s 7ms/step - loss: 0.5253 - accuracy: 0.7195 - val_loss: 0.8751 - val_accuracy: 0.5477\n",
            "Epoch 31/50\n",
            "575/575 [==============================] - 4s 7ms/step - loss: 0.5215 - accuracy: 0.7218 - val_loss: 0.9033 - val_accuracy: 0.5429\n",
            "Epoch 32/50\n",
            "575/575 [==============================] - 4s 8ms/step - loss: 0.5197 - accuracy: 0.7255 - val_loss: 0.7740 - val_accuracy: 0.6218\n",
            "Epoch 33/50\n",
            "575/575 [==============================] - 4s 7ms/step - loss: 0.5030 - accuracy: 0.7361 - val_loss: 0.7941 - val_accuracy: 0.6095\n",
            "Epoch 34/50\n",
            "575/575 [==============================] - 4s 6ms/step - loss: 0.5069 - accuracy: 0.7321 - val_loss: 0.8774 - val_accuracy: 0.5724\n",
            "Epoch 35/50\n",
            "575/575 [==============================] - 5s 8ms/step - loss: 0.4995 - accuracy: 0.7361 - val_loss: 0.9104 - val_accuracy: 0.5903\n",
            "Epoch 36/50\n",
            "575/575 [==============================] - 4s 7ms/step - loss: 0.4900 - accuracy: 0.7430 - val_loss: 0.9881 - val_accuracy: 0.5566\n",
            "Epoch 37/50\n",
            "575/575 [==============================] - 4s 6ms/step - loss: 0.4977 - accuracy: 0.7509 - val_loss: 0.9184 - val_accuracy: 0.5594\n",
            "Epoch 38/50\n",
            "575/575 [==============================] - 4s 8ms/step - loss: 0.4847 - accuracy: 0.7483 - val_loss: 1.0005 - val_accuracy: 0.5498\n",
            "Epoch 39/50\n",
            "575/575 [==============================] - 4s 7ms/step - loss: 0.4965 - accuracy: 0.7416 - val_loss: 1.0040 - val_accuracy: 0.5333\n",
            "Epoch 40/50\n",
            "575/575 [==============================] - 4s 6ms/step - loss: 0.4769 - accuracy: 0.7571 - val_loss: 0.9314 - val_accuracy: 0.5525\n",
            "Epoch 41/50\n",
            "575/575 [==============================] - 4s 7ms/step - loss: 0.4680 - accuracy: 0.7589 - val_loss: 1.0347 - val_accuracy: 0.5752\n",
            "Epoch 42/50\n",
            "575/575 [==============================] - 5s 8ms/step - loss: 0.4687 - accuracy: 0.7570 - val_loss: 0.9991 - val_accuracy: 0.5642\n",
            "Epoch 43/50\n",
            "575/575 [==============================] - 4s 7ms/step - loss: 0.4604 - accuracy: 0.7745 - val_loss: 1.0544 - val_accuracy: 0.5683\n",
            "Epoch 44/50\n",
            "575/575 [==============================] - 4s 7ms/step - loss: 0.4613 - accuracy: 0.7726 - val_loss: 1.0410 - val_accuracy: 0.5539\n",
            "Epoch 45/50\n",
            "575/575 [==============================] - 5s 8ms/step - loss: 0.4684 - accuracy: 0.7667 - val_loss: 0.9635 - val_accuracy: 0.5690\n",
            "Epoch 46/50\n",
            "575/575 [==============================] - 4s 6ms/step - loss: 0.4520 - accuracy: 0.7707 - val_loss: 1.0604 - val_accuracy: 0.5649\n",
            "Epoch 47/50\n",
            "575/575 [==============================] - 4s 6ms/step - loss: 0.4469 - accuracy: 0.7991 - val_loss: 0.9800 - val_accuracy: 0.5621\n",
            "Epoch 48/50\n",
            "575/575 [==============================] - 4s 7ms/step - loss: 0.4486 - accuracy: 0.7989 - val_loss: 1.1264 - val_accuracy: 0.5347\n",
            "Epoch 49/50\n",
            "575/575 [==============================] - 4s 7ms/step - loss: 0.4445 - accuracy: 0.8059 - val_loss: 1.0655 - val_accuracy: 0.5834\n",
            "Epoch 50/50\n",
            "575/575 [==============================] - 4s 6ms/step - loss: 0.4349 - accuracy: 0.8175 - val_loss: 1.2070 - val_accuracy: 0.5456\n",
            "46/46 [==============================] - 0s 6ms/step - loss: 1.2070 - accuracy: 0.5456\n",
            "Epoch 1/50\n",
            "573/573 [==============================] - 6s 8ms/step - loss: 0.7444 - accuracy: 0.4979 - val_loss: 0.7164 - val_accuracy: 0.5829\n",
            "Epoch 2/50\n",
            "573/573 [==============================] - 4s 6ms/step - loss: 0.6972 - accuracy: 0.5093 - val_loss: 0.7009 - val_accuracy: 0.6330\n",
            "Epoch 3/50\n",
            "573/573 [==============================] - 5s 8ms/step - loss: 0.6915 - accuracy: 0.5159 - val_loss: 0.6864 - val_accuracy: 0.6466\n",
            "Epoch 4/50\n",
            "573/573 [==============================] - 4s 6ms/step - loss: 0.6839 - accuracy: 0.5288 - val_loss: 0.6872 - val_accuracy: 0.6479\n",
            "Epoch 5/50\n",
            "573/573 [==============================] - 4s 6ms/step - loss: 0.6831 - accuracy: 0.5327 - val_loss: 0.6855 - val_accuracy: 0.6032\n",
            "Epoch 6/50\n",
            "573/573 [==============================] - 4s 8ms/step - loss: 0.6736 - accuracy: 0.5709 - val_loss: 0.7041 - val_accuracy: 0.4096\n",
            "Epoch 7/50\n",
            "573/573 [==============================] - 4s 7ms/step - loss: 0.6675 - accuracy: 0.5812 - val_loss: 0.6919 - val_accuracy: 0.5186\n",
            "Epoch 8/50\n",
            "573/573 [==============================] - 4s 7ms/step - loss: 0.6618 - accuracy: 0.5928 - val_loss: 0.6968 - val_accuracy: 0.4699\n",
            "Epoch 9/50\n",
            "573/573 [==============================] - 4s 7ms/step - loss: 0.6481 - accuracy: 0.6340 - val_loss: 0.7224 - val_accuracy: 0.4584\n",
            "Epoch 10/50\n",
            "573/573 [==============================] - 4s 8ms/step - loss: 0.6407 - accuracy: 0.6370 - val_loss: 0.7239 - val_accuracy: 0.4705\n",
            "Epoch 11/50\n",
            "573/573 [==============================] - 3s 6ms/step - loss: 0.6336 - accuracy: 0.6405 - val_loss: 0.7346 - val_accuracy: 0.4577\n",
            "Epoch 12/50\n",
            "573/573 [==============================] - 4s 7ms/step - loss: 0.6143 - accuracy: 0.6476 - val_loss: 0.7454 - val_accuracy: 0.4516\n",
            "Epoch 13/50\n",
            "573/573 [==============================] - 5s 8ms/step - loss: 0.6023 - accuracy: 0.6656 - val_loss: 0.7256 - val_accuracy: 0.4922\n",
            "Epoch 14/50\n",
            "573/573 [==============================] - 4s 7ms/step - loss: 0.6034 - accuracy: 0.6682 - val_loss: 0.7389 - val_accuracy: 0.5179\n",
            "Epoch 15/50\n",
            "573/573 [==============================] - 4s 6ms/step - loss: 0.5824 - accuracy: 0.6873 - val_loss: 0.7902 - val_accuracy: 0.4997\n",
            "Epoch 16/50\n",
            "573/573 [==============================] - 4s 7ms/step - loss: 0.5869 - accuracy: 0.6883 - val_loss: 0.8199 - val_accuracy: 0.4699\n",
            "Epoch 17/50\n",
            "573/573 [==============================] - 4s 7ms/step - loss: 0.5734 - accuracy: 0.7035 - val_loss: 0.8539 - val_accuracy: 0.4110\n",
            "Epoch 18/50\n",
            "573/573 [==============================] - 4s 6ms/step - loss: 0.5642 - accuracy: 0.7056 - val_loss: 0.8523 - val_accuracy: 0.4353\n",
            "Epoch 19/50\n",
            "573/573 [==============================] - 4s 6ms/step - loss: 0.5639 - accuracy: 0.7072 - val_loss: 0.8211 - val_accuracy: 0.4746\n",
            "Epoch 20/50\n",
            "573/573 [==============================] - 5s 8ms/step - loss: 0.5538 - accuracy: 0.7179 - val_loss: 0.8849 - val_accuracy: 0.4868\n",
            "Epoch 21/50\n",
            "573/573 [==============================] - 4s 6ms/step - loss: 0.5535 - accuracy: 0.7196 - val_loss: 0.8470 - val_accuracy: 0.4949\n",
            "Epoch 22/50\n",
            "573/573 [==============================] - 4s 6ms/step - loss: 0.5405 - accuracy: 0.7276 - val_loss: 0.8715 - val_accuracy: 0.5220\n",
            "Epoch 23/50\n",
            "573/573 [==============================] - 4s 7ms/step - loss: 0.5394 - accuracy: 0.7273 - val_loss: 0.8755 - val_accuracy: 0.5166\n",
            "Epoch 24/50\n",
            "573/573 [==============================] - 4s 7ms/step - loss: 0.5311 - accuracy: 0.7345 - val_loss: 0.8224 - val_accuracy: 0.5010\n",
            "Epoch 25/50\n",
            "573/573 [==============================] - 4s 7ms/step - loss: 0.5222 - accuracy: 0.7311 - val_loss: 0.8586 - val_accuracy: 0.5058\n",
            "Epoch 26/50\n",
            "573/573 [==============================] - 4s 7ms/step - loss: 0.5294 - accuracy: 0.7338 - val_loss: 0.9460 - val_accuracy: 0.4868\n",
            "Epoch 27/50\n",
            "573/573 [==============================] - 4s 8ms/step - loss: 0.5283 - accuracy: 0.7325 - val_loss: 0.8754 - val_accuracy: 0.5416\n",
            "Epoch 28/50\n",
            "573/573 [==============================] - 4s 7ms/step - loss: 0.5193 - accuracy: 0.7390 - val_loss: 0.9042 - val_accuracy: 0.5071\n",
            "Epoch 29/50\n",
            "573/573 [==============================] - 4s 6ms/step - loss: 0.5219 - accuracy: 0.7385 - val_loss: 0.8833 - val_accuracy: 0.4672\n",
            "Epoch 30/50\n",
            "573/573 [==============================] - 5s 8ms/step - loss: 0.5034 - accuracy: 0.7509 - val_loss: 0.9086 - val_accuracy: 0.5058\n",
            "Epoch 31/50\n",
            "573/573 [==============================] - 4s 6ms/step - loss: 0.5099 - accuracy: 0.7483 - val_loss: 0.8757 - val_accuracy: 0.5430\n",
            "Epoch 32/50\n",
            "573/573 [==============================] - 4s 7ms/step - loss: 0.5023 - accuracy: 0.7397 - val_loss: 1.0260 - val_accuracy: 0.5152\n",
            "Epoch 33/50\n",
            "573/573 [==============================] - 4s 7ms/step - loss: 0.5023 - accuracy: 0.7399 - val_loss: 0.9856 - val_accuracy: 0.5051\n",
            "Epoch 34/50\n",
            "573/573 [==============================] - 4s 7ms/step - loss: 0.4917 - accuracy: 0.7528 - val_loss: 0.9677 - val_accuracy: 0.5213\n",
            "Epoch 35/50\n",
            "573/573 [==============================] - 4s 6ms/step - loss: 0.5035 - accuracy: 0.7476 - val_loss: 1.0262 - val_accuracy: 0.5173\n",
            "Epoch 36/50\n",
            "573/573 [==============================] - 4s 7ms/step - loss: 0.4779 - accuracy: 0.7591 - val_loss: 0.9867 - val_accuracy: 0.4990\n",
            "Epoch 37/50\n",
            "573/573 [==============================] - 5s 8ms/step - loss: 0.4768 - accuracy: 0.7629 - val_loss: 1.0781 - val_accuracy: 0.4787\n",
            "Epoch 38/50\n",
            "573/573 [==============================] - 4s 7ms/step - loss: 0.4854 - accuracy: 0.7631 - val_loss: 0.9900 - val_accuracy: 0.4942\n",
            "Epoch 39/50\n",
            "573/573 [==============================] - 4s 7ms/step - loss: 0.4862 - accuracy: 0.7633 - val_loss: 0.9607 - val_accuracy: 0.5098\n",
            "Epoch 40/50\n",
            "573/573 [==============================] - 5s 8ms/step - loss: 0.4863 - accuracy: 0.7633 - val_loss: 0.9716 - val_accuracy: 0.5030\n",
            "Epoch 41/50\n",
            "573/573 [==============================] - 4s 7ms/step - loss: 0.4807 - accuracy: 0.7530 - val_loss: 0.9403 - val_accuracy: 0.5416\n",
            "Epoch 42/50\n",
            "573/573 [==============================] - 4s 6ms/step - loss: 0.4768 - accuracy: 0.7668 - val_loss: 0.9843 - val_accuracy: 0.5322\n",
            "Epoch 43/50\n",
            "573/573 [==============================] - 4s 7ms/step - loss: 0.4826 - accuracy: 0.7601 - val_loss: 0.9871 - val_accuracy: 0.5416\n",
            "Epoch 44/50\n",
            "573/573 [==============================] - 5s 8ms/step - loss: 0.4699 - accuracy: 0.7642 - val_loss: 1.0119 - val_accuracy: 0.5423\n",
            "Epoch 45/50\n",
            "573/573 [==============================] - 4s 7ms/step - loss: 0.4733 - accuracy: 0.7659 - val_loss: 1.0311 - val_accuracy: 0.5220\n",
            "Epoch 46/50\n",
            "573/573 [==============================] - 4s 6ms/step - loss: 0.4578 - accuracy: 0.7762 - val_loss: 0.9819 - val_accuracy: 0.5349\n",
            "Epoch 47/50\n",
            "573/573 [==============================] - 5s 8ms/step - loss: 0.4690 - accuracy: 0.7687 - val_loss: 1.0551 - val_accuracy: 0.5376\n",
            "Epoch 48/50\n",
            "573/573 [==============================] - 4s 6ms/step - loss: 0.4613 - accuracy: 0.7673 - val_loss: 0.9834 - val_accuracy: 0.5369\n",
            "Epoch 49/50\n",
            "573/573 [==============================] - 4s 7ms/step - loss: 0.4574 - accuracy: 0.7722 - val_loss: 1.1131 - val_accuracy: 0.5139\n",
            "Epoch 50/50\n",
            "573/573 [==============================] - 5s 8ms/step - loss: 0.4468 - accuracy: 0.7764 - val_loss: 1.0284 - val_accuracy: 0.5240\n",
            "47/47 [==============================] - 0s 6ms/step - loss: 1.0284 - accuracy: 0.5240\n",
            "Epoch 1/50\n",
            "591/591 [==============================] - 6s 8ms/step - loss: 0.7660 - accuracy: 0.5280 - val_loss: 0.7216 - val_accuracy: 0.4297\n",
            "Epoch 2/50\n",
            "591/591 [==============================] - 4s 8ms/step - loss: 0.6866 - accuracy: 0.5688 - val_loss: 0.7195 - val_accuracy: 0.4297\n",
            "Epoch 3/50\n",
            "591/591 [==============================] - 4s 7ms/step - loss: 0.6798 - accuracy: 0.5720 - val_loss: 0.7207 - val_accuracy: 0.4297\n",
            "Epoch 4/50\n",
            "591/591 [==============================] - 4s 7ms/step - loss: 0.6781 - accuracy: 0.5734 - val_loss: 0.7205 - val_accuracy: 0.4304\n",
            "Epoch 5/50\n",
            "591/591 [==============================] - 4s 8ms/step - loss: 0.6741 - accuracy: 0.5751 - val_loss: 0.7191 - val_accuracy: 0.4297\n",
            "Epoch 6/50\n",
            "591/591 [==============================] - 4s 7ms/step - loss: 0.6668 - accuracy: 0.5761 - val_loss: 0.7197 - val_accuracy: 0.4289\n",
            "Epoch 7/50\n",
            "591/591 [==============================] - 4s 6ms/step - loss: 0.6658 - accuracy: 0.5781 - val_loss: 0.7101 - val_accuracy: 0.4297\n",
            "Epoch 8/50\n",
            "591/591 [==============================] - 5s 8ms/step - loss: 0.6558 - accuracy: 0.5935 - val_loss: 0.7028 - val_accuracy: 0.4737\n",
            "Epoch 9/50\n",
            "591/591 [==============================] - 4s 7ms/step - loss: 0.6480 - accuracy: 0.6078 - val_loss: 0.7057 - val_accuracy: 0.5000\n",
            "Epoch 10/50\n",
            "591/591 [==============================] - 4s 6ms/step - loss: 0.6335 - accuracy: 0.6215 - val_loss: 0.7023 - val_accuracy: 0.5294\n",
            "Epoch 11/50\n",
            "591/591 [==============================] - 4s 7ms/step - loss: 0.6241 - accuracy: 0.6445 - val_loss: 0.6991 - val_accuracy: 0.5433\n",
            "Epoch 12/50\n",
            "591/591 [==============================] - 4s 7ms/step - loss: 0.6112 - accuracy: 0.6504 - val_loss: 0.6903 - val_accuracy: 0.5866\n",
            "Epoch 13/50\n",
            "591/591 [==============================] - 4s 6ms/step - loss: 0.6105 - accuracy: 0.6563 - val_loss: 0.6970 - val_accuracy: 0.5556\n",
            "Epoch 14/50\n",
            "591/591 [==============================] - 4s 7ms/step - loss: 0.5926 - accuracy: 0.6829 - val_loss: 0.6831 - val_accuracy: 0.5943\n",
            "Epoch 15/50\n",
            "591/591 [==============================] - 5s 8ms/step - loss: 0.5862 - accuracy: 0.6846 - val_loss: 0.7040 - val_accuracy: 0.5533\n",
            "Epoch 16/50\n",
            "591/591 [==============================] - 4s 6ms/step - loss: 0.5803 - accuracy: 0.6882 - val_loss: 0.7034 - val_accuracy: 0.5726\n",
            "Epoch 17/50\n",
            "591/591 [==============================] - 4s 6ms/step - loss: 0.5753 - accuracy: 0.6993 - val_loss: 0.7159 - val_accuracy: 0.5626\n",
            "Epoch 18/50\n",
            "221/591 [==========>...................] - ETA: 2s - loss: 0.5432 - accuracy: 0.7294"
          ]
        }
      ]
    },
    {
      "cell_type": "code",
      "source": [
        "np.mean(accuracy)"
      ],
      "metadata": {
        "id": "XXzS7cB6wpls"
      },
      "execution_count": null,
      "outputs": []
    },
    {
      "cell_type": "code",
      "source": [],
      "metadata": {
        "id": "AS2qlP91wpjK"
      },
      "execution_count": null,
      "outputs": []
    },
    {
      "cell_type": "code",
      "source": [],
      "metadata": {
        "id": "AQ_Zbe4iwpgr"
      },
      "execution_count": null,
      "outputs": []
    },
    {
      "cell_type": "code",
      "source": [],
      "metadata": {
        "id": "4j0zgmqjwpeF"
      },
      "execution_count": null,
      "outputs": []
    }
  ]
}