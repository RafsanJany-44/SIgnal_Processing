{
  "nbformat": 4,
  "nbformat_minor": 0,
  "metadata": {
    "colab": {
      "provenance": [],
      "mount_file_id": "1NjqgGvuTAa1yUOt8eP3N4yxtMkCkJ7H2",
      "authorship_tag": "ABX9TyPW4kVq9vXjHlDTIMHz91AK",
      "include_colab_link": true
    },
    "kernelspec": {
      "name": "python3",
      "display_name": "Python 3"
    },
    "language_info": {
      "name": "python"
    }
  },
  "cells": [
    {
      "cell_type": "markdown",
      "metadata": {
        "id": "view-in-github",
        "colab_type": "text"
      },
      "source": [
        "<a href=\"https://colab.research.google.com/github/RafsanJany-44/SIgnal_Processing/blob/main/Signal_Processing_1.ipynb\" target=\"_parent\"><img src=\"https://colab.research.google.com/assets/colab-badge.svg\" alt=\"Open In Colab\"/></a>"
      ]
    },
    {
      "cell_type": "code",
      "source": [
        "!pip install mne"
      ],
      "metadata": {
        "colab": {
          "base_uri": "https://localhost:8080/"
        },
        "id": "AQSiEoedDCPu",
        "outputId": "e5c8ee1e-28bb-457a-9564-f3df25329535"
      },
      "execution_count": null,
      "outputs": [
        {
          "output_type": "stream",
          "name": "stdout",
          "text": [
            "Collecting mne\n",
            "  Downloading mne-1.5.1-py3-none-any.whl (7.7 MB)\n",
            "\u001b[2K     \u001b[90m━━━━━━━━━━━━━━━━━━━━━━━━━━━━━━━━━━━━━━━━\u001b[0m \u001b[32m7.7/7.7 MB\u001b[0m \u001b[31m21.3 MB/s\u001b[0m eta \u001b[36m0:00:00\u001b[0m\n",
            "\u001b[?25hRequirement already satisfied: numpy>=1.15.4 in /usr/local/lib/python3.10/dist-packages (from mne) (1.23.5)\n",
            "Requirement already satisfied: scipy>=1.6.3 in /usr/local/lib/python3.10/dist-packages (from mne) (1.11.3)\n",
            "Requirement already satisfied: matplotlib>=3.4.0 in /usr/local/lib/python3.10/dist-packages (from mne) (3.7.1)\n",
            "Requirement already satisfied: tqdm in /usr/local/lib/python3.10/dist-packages (from mne) (4.66.1)\n",
            "Requirement already satisfied: pooch>=1.5 in /usr/local/lib/python3.10/dist-packages (from mne) (1.8.0)\n",
            "Requirement already satisfied: decorator in /usr/local/lib/python3.10/dist-packages (from mne) (4.4.2)\n",
            "Requirement already satisfied: packaging in /usr/local/lib/python3.10/dist-packages (from mne) (23.2)\n",
            "Requirement already satisfied: jinja2 in /usr/local/lib/python3.10/dist-packages (from mne) (3.1.2)\n",
            "Requirement already satisfied: contourpy>=1.0.1 in /usr/local/lib/python3.10/dist-packages (from matplotlib>=3.4.0->mne) (1.2.0)\n",
            "Requirement already satisfied: cycler>=0.10 in /usr/local/lib/python3.10/dist-packages (from matplotlib>=3.4.0->mne) (0.12.1)\n",
            "Requirement already satisfied: fonttools>=4.22.0 in /usr/local/lib/python3.10/dist-packages (from matplotlib>=3.4.0->mne) (4.44.0)\n",
            "Requirement already satisfied: kiwisolver>=1.0.1 in /usr/local/lib/python3.10/dist-packages (from matplotlib>=3.4.0->mne) (1.4.5)\n",
            "Requirement already satisfied: pillow>=6.2.0 in /usr/local/lib/python3.10/dist-packages (from matplotlib>=3.4.0->mne) (9.4.0)\n",
            "Requirement already satisfied: pyparsing>=2.3.1 in /usr/local/lib/python3.10/dist-packages (from matplotlib>=3.4.0->mne) (3.1.1)\n",
            "Requirement already satisfied: python-dateutil>=2.7 in /usr/local/lib/python3.10/dist-packages (from matplotlib>=3.4.0->mne) (2.8.2)\n",
            "Requirement already satisfied: platformdirs>=2.5.0 in /usr/local/lib/python3.10/dist-packages (from pooch>=1.5->mne) (3.11.0)\n",
            "Requirement already satisfied: requests>=2.19.0 in /usr/local/lib/python3.10/dist-packages (from pooch>=1.5->mne) (2.31.0)\n",
            "Requirement already satisfied: MarkupSafe>=2.0 in /usr/local/lib/python3.10/dist-packages (from jinja2->mne) (2.1.3)\n",
            "Requirement already satisfied: six>=1.5 in /usr/local/lib/python3.10/dist-packages (from python-dateutil>=2.7->matplotlib>=3.4.0->mne) (1.16.0)\n",
            "Requirement already satisfied: charset-normalizer<4,>=2 in /usr/local/lib/python3.10/dist-packages (from requests>=2.19.0->pooch>=1.5->mne) (3.3.2)\n",
            "Requirement already satisfied: idna<4,>=2.5 in /usr/local/lib/python3.10/dist-packages (from requests>=2.19.0->pooch>=1.5->mne) (3.4)\n",
            "Requirement already satisfied: urllib3<3,>=1.21.1 in /usr/local/lib/python3.10/dist-packages (from requests>=2.19.0->pooch>=1.5->mne) (2.0.7)\n",
            "Requirement already satisfied: certifi>=2017.4.17 in /usr/local/lib/python3.10/dist-packages (from requests>=2.19.0->pooch>=1.5->mne) (2023.7.22)\n",
            "Installing collected packages: mne\n",
            "Successfully installed mne-1.5.1\n"
          ]
        }
      ]
    },
    {
      "cell_type": "code",
      "execution_count": null,
      "metadata": {
        "id": "EPPCKjWeChJs"
      },
      "outputs": [],
      "source": [
        "from glob import glob\n",
        "import os\n",
        "import mne\n",
        "import pandas\n",
        "import numpy as np\n",
        "import matplotlib.pyplot as plt"
      ]
    },
    {
      "cell_type": "code",
      "source": [
        "data_path = \"/content/drive/MyDrive/Signal_Data/dataverse_files\""
      ],
      "metadata": {
        "id": "aom4xKvEC57E"
      },
      "execution_count": null,
      "outputs": []
    },
    {
      "cell_type": "code",
      "source": [
        "all_file_path = glob(data_path+\"/*.edf\")\n",
        "print(len(all_file_path))"
      ],
      "metadata": {
        "colab": {
          "base_uri": "https://localhost:8080/"
        },
        "id": "e2ucexuQDWiH",
        "outputId": "29bf9804-217e-422e-a8f8-70775b9b6c5a"
      },
      "execution_count": null,
      "outputs": [
        {
          "output_type": "stream",
          "name": "stdout",
          "text": [
            "28\n"
          ]
        }
      ]
    },
    {
      "cell_type": "code",
      "source": [
        "all_file_path"
      ],
      "metadata": {
        "colab": {
          "base_uri": "https://localhost:8080/"
        },
        "id": "w0v0ajItDuXR",
        "outputId": "f3ef42a6-b018-4965-d634-abaf62157c7f"
      },
      "execution_count": null,
      "outputs": [
        {
          "output_type": "execute_result",
          "data": {
            "text/plain": [
              "['/content/drive/MyDrive/Signal_Data/dataverse_files/h12.edf',\n",
              " '/content/drive/MyDrive/Signal_Data/dataverse_files/h05.edf',\n",
              " '/content/drive/MyDrive/Signal_Data/dataverse_files/h06.edf',\n",
              " '/content/drive/MyDrive/Signal_Data/dataverse_files/h04.edf',\n",
              " '/content/drive/MyDrive/Signal_Data/dataverse_files/h08.edf',\n",
              " '/content/drive/MyDrive/Signal_Data/dataverse_files/h09.edf',\n",
              " '/content/drive/MyDrive/Signal_Data/dataverse_files/h11.edf',\n",
              " '/content/drive/MyDrive/Signal_Data/dataverse_files/h02.edf',\n",
              " '/content/drive/MyDrive/Signal_Data/dataverse_files/h07.edf',\n",
              " '/content/drive/MyDrive/Signal_Data/dataverse_files/h03.edf',\n",
              " '/content/drive/MyDrive/Signal_Data/dataverse_files/h01.edf',\n",
              " '/content/drive/MyDrive/Signal_Data/dataverse_files/h10.edf',\n",
              " '/content/drive/MyDrive/Signal_Data/dataverse_files/s01.edf',\n",
              " '/content/drive/MyDrive/Signal_Data/dataverse_files/s07.edf',\n",
              " '/content/drive/MyDrive/Signal_Data/dataverse_files/h13.edf',\n",
              " '/content/drive/MyDrive/Signal_Data/dataverse_files/h14.edf',\n",
              " '/content/drive/MyDrive/Signal_Data/dataverse_files/s05.edf',\n",
              " '/content/drive/MyDrive/Signal_Data/dataverse_files/s04.edf',\n",
              " '/content/drive/MyDrive/Signal_Data/dataverse_files/s06.edf',\n",
              " '/content/drive/MyDrive/Signal_Data/dataverse_files/s03.edf',\n",
              " '/content/drive/MyDrive/Signal_Data/dataverse_files/s09.edf',\n",
              " '/content/drive/MyDrive/Signal_Data/dataverse_files/s08.edf',\n",
              " '/content/drive/MyDrive/Signal_Data/dataverse_files/s02.edf',\n",
              " '/content/drive/MyDrive/Signal_Data/dataverse_files/s11.edf',\n",
              " '/content/drive/MyDrive/Signal_Data/dataverse_files/s14.edf',\n",
              " '/content/drive/MyDrive/Signal_Data/dataverse_files/s12.edf',\n",
              " '/content/drive/MyDrive/Signal_Data/dataverse_files/s10.edf',\n",
              " '/content/drive/MyDrive/Signal_Data/dataverse_files/s13.edf']"
            ]
          },
          "metadata": {},
          "execution_count": 5
        }
      ]
    },
    {
      "cell_type": "code",
      "source": [
        "healthy_file_path = []\n",
        "patient_file_path = []\n",
        "\n",
        "for i in all_file_path:\n",
        "  if str(os.path.basename(i))[0] == 'h':\n",
        "    healthy_file_path.append(i)\n",
        "  else:\n",
        "    patient_file_path.append(i)"
      ],
      "metadata": {
        "id": "GlVpNrHSFTNR"
      },
      "execution_count": null,
      "outputs": []
    },
    {
      "cell_type": "code",
      "source": [
        "def read_data(file_path):\n",
        "  data = mne.io.read_raw_edf(file_path, preload=True)\n",
        "  data.set_eeg_reference()\n",
        "  data.filter(l_freq=0.5,h_freq=45)\n",
        "  epochs=mne.make_fixed_length_epochs(data,duration=5,overlap=1)\n",
        "  array=epochs.get_data()\n",
        "  return array"
      ],
      "metadata": {
        "id": "DgXGbLeIF3DY"
      },
      "execution_count": null,
      "outputs": []
    },
    {
      "cell_type": "code",
      "source": [
        "\n",
        "sample_data = read_data(healthy_file_path[0])"
      ],
      "metadata": {
        "colab": {
          "base_uri": "https://localhost:8080/"
        },
        "id": "r0QKAcRxkGCs",
        "outputId": "8f884aef-b186-441e-d1c2-12936bc954b3"
      },
      "execution_count": null,
      "outputs": [
        {
          "output_type": "stream",
          "name": "stdout",
          "text": [
            "Extracting EDF parameters from /content/drive/MyDrive/Signal_Data/dataverse_files/h12.edf...\n",
            "EDF file detected\n",
            "Setting channel info structure...\n",
            "Creating raw.info structure...\n",
            "Reading 0 ... 224999  =      0.000 ...   899.996 secs...\n",
            "EEG channel type selected for re-referencing\n",
            "Applying average reference.\n",
            "Applying a custom ('EEG',) reference.\n",
            "Filtering raw data in 1 contiguous segment\n",
            "Setting up band-pass filter from 0.5 - 45 Hz\n",
            "\n",
            "FIR filter parameters\n",
            "---------------------\n",
            "Designing a one-pass, zero-phase, non-causal bandpass filter:\n",
            "- Windowed time-domain design (firwin) method\n",
            "- Hamming window with 0.0194 passband ripple and 53 dB stopband attenuation\n",
            "- Lower passband edge: 0.50\n",
            "- Lower transition bandwidth: 0.50 Hz (-6 dB cutoff frequency: 0.25 Hz)\n",
            "- Upper passband edge: 45.00 Hz\n",
            "- Upper transition bandwidth: 11.25 Hz (-6 dB cutoff frequency: 50.62 Hz)\n",
            "- Filter length: 1651 samples (6.604 s)\n",
            "\n",
            "Not setting metadata\n",
            "224 matching events found\n",
            "No baseline correction applied\n",
            "0 projection items activated\n",
            "Using data from preloaded Raw for 224 events and 1250 original time points ...\n",
            "0 bad epochs dropped\n"
          ]
        },
        {
          "output_type": "stream",
          "name": "stderr",
          "text": [
            "[Parallel(n_jobs=1)]: Done  17 tasks      | elapsed:    0.2s\n"
          ]
        }
      ]
    },
    {
      "cell_type": "code",
      "source": [
        "sample_data.shape   #epochs,channels, length of signals"
      ],
      "metadata": {
        "colab": {
          "base_uri": "https://localhost:8080/"
        },
        "id": "WAUwgK8RlO-L",
        "outputId": "56c7edc3-d558-4018-b20c-bcca00441d7b"
      },
      "execution_count": null,
      "outputs": [
        {
          "output_type": "execute_result",
          "data": {
            "text/plain": [
              "(224, 19, 1250)"
            ]
          },
          "metadata": {},
          "execution_count": 9
        }
      ]
    },
    {
      "cell_type": "code",
      "source": [
        "%%capture\n",
        "control_epochs_array = []\n",
        "patient_epochs_array = []\n",
        "\n",
        "for i in healthy_file_path:\n",
        "  control_epochs_array.append(read_data(i))\n",
        "\n",
        "for i in patient_file_path:\n",
        "  patient_epochs_array.append(read_data(i))"
      ],
      "metadata": {
        "id": "CF-K72Blr6uI"
      },
      "execution_count": null,
      "outputs": []
    },
    {
      "cell_type": "code",
      "source": [
        "control_epochs_array[0].shape"
      ],
      "metadata": {
        "colab": {
          "base_uri": "https://localhost:8080/"
        },
        "id": "q_NcNYjXtabF",
        "outputId": "1e05304c-cab2-4c24-f494-b61280222c0d"
      },
      "execution_count": null,
      "outputs": [
        {
          "output_type": "execute_result",
          "data": {
            "text/plain": [
              "(224, 19, 1250)"
            ]
          },
          "metadata": {},
          "execution_count": 11
        }
      ]
    },
    {
      "cell_type": "code",
      "source": [
        "patient_epochs_array[0].shape"
      ],
      "metadata": {
        "id": "jGbaFskwt8bt",
        "outputId": "12773051-b871-4fed-fcbb-08dc7e1c86ee",
        "colab": {
          "base_uri": "https://localhost:8080/"
        }
      },
      "execution_count": null,
      "outputs": [
        {
          "output_type": "execute_result",
          "data": {
            "text/plain": [
              "(211, 19, 1250)"
            ]
          },
          "metadata": {},
          "execution_count": 12
        }
      ]
    },
    {
      "cell_type": "code",
      "source": [],
      "metadata": {
        "id": "asgAbkcrBedl"
      },
      "execution_count": null,
      "outputs": []
    },
    {
      "cell_type": "code",
      "source": [
        "\n",
        "#labeling control as 0. -> Unhealthy\n",
        "control_epochs_label = []\n",
        "for i in control_epochs_array:\n",
        "  control_epochs_label.append(len(i)*[0])\n",
        "\n",
        "\n",
        "#labeling healthy as 1. -> Unhealthy\n",
        "patient_epochs_label = []\n",
        "for i in patient_epochs_array:\n",
        "  patient_epochs_label.append(len(i)*[1])"
      ],
      "metadata": {
        "id": "4ylz3yawt_bG"
      },
      "execution_count": null,
      "outputs": []
    },
    {
      "cell_type": "code",
      "source": [
        "data_list=control_epochs_array+patient_epochs_array\n",
        "label_list=control_epochs_label+patient_epochs_label"
      ],
      "metadata": {
        "id": "dsLjlDDmCVD3"
      },
      "execution_count": null,
      "outputs": []
    },
    {
      "cell_type": "code",
      "source": [
        "#spliting data as subject, makig group for each subject\n",
        "\n",
        "group_list = []\n",
        "\n",
        "\n",
        "for i,j in enumerate(data_list):\n",
        "  group_list.append([i]*len(j))\n",
        "\n",
        "len(group_list)\n",
        "\n",
        "\n"
      ],
      "metadata": {
        "colab": {
          "base_uri": "https://localhost:8080/"
        },
        "id": "B6V45zXkDIEU",
        "outputId": "8aa6bd75-9363-4474-e246-bf84778604a4"
      },
      "execution_count": null,
      "outputs": [
        {
          "output_type": "execute_result",
          "data": {
            "text/plain": [
              "28"
            ]
          },
          "metadata": {},
          "execution_count": 15
        }
      ]
    },
    {
      "cell_type": "code",
      "source": [
        "data_array = np.vstack(data_list)\n",
        "label_array = np.hstack(label_list)\n",
        "group_array = np.hstack(group_list)\n",
        "data_array.shape,label_array.shape,group_array.shape"
      ],
      "metadata": {
        "colab": {
          "base_uri": "https://localhost:8080/"
        },
        "id": "C9n27rwCDzLJ",
        "outputId": "73914a69-9c8f-4814-c313-b276b98c9ac0"
      },
      "execution_count": null,
      "outputs": [
        {
          "output_type": "execute_result",
          "data": {
            "text/plain": [
              "((7201, 19, 1250), (7201,), (7201,))"
            ]
          },
          "metadata": {},
          "execution_count": 16
        }
      ]
    },
    {
      "cell_type": "code",
      "source": [
        "from scipy import stats\n",
        "\n",
        "def mean(x):\n",
        "  return np.mean(x,axis= -1)\n",
        "\n",
        "def std(x):\n",
        "  return np.std(x,axis= -1)\n",
        "\n",
        "def ptp(x):\n",
        "  return np.ptp(x,axis= -1)\n",
        "\n",
        "def minim(x):\n",
        "  return np.min(x,axis= -1)\n",
        "\n",
        "def maxim(x):\n",
        "  return np.max(x,axis= -1)\n",
        "\n",
        "def argminim(x):\n",
        "  return np.argmin(x,axis= -1)\n",
        "\n",
        "def argmaxim(x):\n",
        "  return np.argmax(x,axis= -1)\n",
        "\n",
        "def rms(x):\n",
        "  return np.sqrt(np.mean(x**2,axis=-1))\n",
        "\n",
        "def abs_diff_signal(x):\n",
        "  return np.sum(np.abs(np.diff(x,axis=-1)),axis=-1)\n",
        "\n",
        "def skewness(x):\n",
        "  return stats.skew(x,axis=-1)\n",
        "\n",
        "def kurtosis(x):\n",
        "  return stats.kurtosis(x,axis = -1)\n",
        "\n",
        "def concatenate_features(x):\n",
        "  return  np.concatenate((mean(x),std(x),ptp(x),minim(x),maxim(x),argminim(x),argmaxim(x), rms(x),abs_diff_signal(x),skewness(x),kurtosis(x)),axis=-1)"
      ],
      "metadata": {
        "id": "YWShpNhNES7B"
      },
      "execution_count": null,
      "outputs": []
    },
    {
      "cell_type": "code",
      "source": [
        "features = []\n",
        "for d in data_array:\n",
        "  feattures.append(concatenate_features(d))"
      ],
      "metadata": {
        "id": "LiHYFpisw_bY"
      },
      "execution_count": null,
      "outputs": []
    },
    {
      "cell_type": "code",
      "source": [
        "features_array = np.array(feattures)\n",
        "feattures_array.shape"
      ],
      "metadata": {
        "colab": {
          "base_uri": "https://localhost:8080/"
        },
        "id": "EsUK5zFd0piN",
        "outputId": "cb2e6fed-c5c9-4b39-cb3d-a96375d3d000"
      },
      "execution_count": null,
      "outputs": [
        {
          "output_type": "execute_result",
          "data": {
            "text/plain": [
              "(14402, 209)"
            ]
          },
          "metadata": {},
          "execution_count": 45
        }
      ]
    },
    {
      "cell_type": "code",
      "source": [
        "epochs_array=control_epochs_array+patient_epochs_array\n",
        "epochs_label=control_epochs_label+patient_epochs_label"
      ],
      "metadata": {
        "id": "EECjS5IBd1VJ"
      },
      "execution_count": 63,
      "outputs": []
    },
    {
      "cell_type": "code",
      "source": [
        "epochs_array = np.vstack(epochs_array)\n",
        "epochs_label = np.vstack(epochs_label)\n",
        "groups_array = np.hstack(group)"
      ],
      "metadata": {
        "colab": {
          "base_uri": "https://localhost:8080/",
          "height": 287
        },
        "id": "gS7BFXfhc_ki",
        "outputId": "1c7511f8-1e28-4247-fa72-a66b6523da83"
      },
      "execution_count": 64,
      "outputs": [
        {
          "output_type": "error",
          "ename": "ValueError",
          "evalue": "ignored",
          "traceback": [
            "\u001b[0;31m---------------------------------------------------------------------------\u001b[0m",
            "\u001b[0;31mValueError\u001b[0m                                Traceback (most recent call last)",
            "\u001b[0;32m<ipython-input-64-54ef03af7e53>\u001b[0m in \u001b[0;36m<cell line: 2>\u001b[0;34m()\u001b[0m\n\u001b[1;32m      1\u001b[0m \u001b[0mepochs_array\u001b[0m \u001b[0;34m=\u001b[0m \u001b[0mnp\u001b[0m\u001b[0;34m.\u001b[0m\u001b[0mvstack\u001b[0m\u001b[0;34m(\u001b[0m\u001b[0mepochs_array\u001b[0m\u001b[0;34m)\u001b[0m\u001b[0;34m\u001b[0m\u001b[0;34m\u001b[0m\u001b[0m\n\u001b[0;32m----> 2\u001b[0;31m \u001b[0mepochs_label\u001b[0m \u001b[0;34m=\u001b[0m \u001b[0mnp\u001b[0m\u001b[0;34m.\u001b[0m\u001b[0mvstack\u001b[0m\u001b[0;34m(\u001b[0m\u001b[0mepochs_label\u001b[0m\u001b[0;34m)\u001b[0m\u001b[0;34m\u001b[0m\u001b[0;34m\u001b[0m\u001b[0m\n\u001b[0m\u001b[1;32m      3\u001b[0m \u001b[0mgroups_array\u001b[0m \u001b[0;34m=\u001b[0m \u001b[0mnp\u001b[0m\u001b[0;34m.\u001b[0m\u001b[0mhstack\u001b[0m\u001b[0;34m(\u001b[0m\u001b[0mgroup\u001b[0m\u001b[0;34m)\u001b[0m\u001b[0;34m\u001b[0m\u001b[0;34m\u001b[0m\u001b[0m\n",
            "\u001b[0;32m/usr/local/lib/python3.10/dist-packages/numpy/core/overrides.py\u001b[0m in \u001b[0;36mvstack\u001b[0;34m(*args, **kwargs)\u001b[0m\n",
            "\u001b[0;32m/usr/local/lib/python3.10/dist-packages/numpy/core/shape_base.py\u001b[0m in \u001b[0;36mvstack\u001b[0;34m(tup)\u001b[0m\n\u001b[1;32m    280\u001b[0m     \u001b[0;32mif\u001b[0m \u001b[0;32mnot\u001b[0m \u001b[0misinstance\u001b[0m\u001b[0;34m(\u001b[0m\u001b[0marrs\u001b[0m\u001b[0;34m,\u001b[0m \u001b[0mlist\u001b[0m\u001b[0;34m)\u001b[0m\u001b[0;34m:\u001b[0m\u001b[0;34m\u001b[0m\u001b[0;34m\u001b[0m\u001b[0m\n\u001b[1;32m    281\u001b[0m         \u001b[0marrs\u001b[0m \u001b[0;34m=\u001b[0m \u001b[0;34m[\u001b[0m\u001b[0marrs\u001b[0m\u001b[0;34m]\u001b[0m\u001b[0;34m\u001b[0m\u001b[0;34m\u001b[0m\u001b[0m\n\u001b[0;32m--> 282\u001b[0;31m     \u001b[0;32mreturn\u001b[0m \u001b[0m_nx\u001b[0m\u001b[0;34m.\u001b[0m\u001b[0mconcatenate\u001b[0m\u001b[0;34m(\u001b[0m\u001b[0marrs\u001b[0m\u001b[0;34m,\u001b[0m \u001b[0;36m0\u001b[0m\u001b[0;34m)\u001b[0m\u001b[0;34m\u001b[0m\u001b[0;34m\u001b[0m\u001b[0m\n\u001b[0m\u001b[1;32m    283\u001b[0m \u001b[0;34m\u001b[0m\u001b[0m\n\u001b[1;32m    284\u001b[0m \u001b[0;34m\u001b[0m\u001b[0m\n",
            "\u001b[0;32m/usr/local/lib/python3.10/dist-packages/numpy/core/overrides.py\u001b[0m in \u001b[0;36mconcatenate\u001b[0;34m(*args, **kwargs)\u001b[0m\n",
            "\u001b[0;31mValueError\u001b[0m: all the input array dimensions for the concatenation axis must match exactly, but along dimension 1, the array at index 0 has size 224 and the array at index 1 has size 236"
          ]
        }
      ]
    },
    {
      "cell_type": "code",
      "source": [],
      "metadata": {
        "id": "oXL4J_bOjhNG"
      },
      "execution_count": null,
      "outputs": []
    },
    {
      "cell_type": "markdown",
      "source": [],
      "metadata": {
        "id": "o2cbLJu9SkrF"
      }
    }
  ]
}