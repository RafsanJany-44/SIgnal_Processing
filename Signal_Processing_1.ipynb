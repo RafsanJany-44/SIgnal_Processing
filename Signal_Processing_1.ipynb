{
  "nbformat": 4,
  "nbformat_minor": 0,
  "metadata": {
    "colab": {
      "provenance": [],
      "mount_file_id": "1NjqgGvuTAa1yUOt8eP3N4yxtMkCkJ7H2",
      "authorship_tag": "ABX9TyNvxfZyR7ZZjQ42TqEyNkfL",
      "include_colab_link": true
    },
    "kernelspec": {
      "name": "python3",
      "display_name": "Python 3"
    },
    "language_info": {
      "name": "python"
    }
  },
  "cells": [
    {
      "cell_type": "markdown",
      "metadata": {
        "id": "view-in-github",
        "colab_type": "text"
      },
      "source": [
        "<a href=\"https://colab.research.google.com/github/RafsanJany-44/SIgnal_Processing/blob/main/Signal_Processing_1.ipynb\" target=\"_parent\"><img src=\"https://colab.research.google.com/assets/colab-badge.svg\" alt=\"Open In Colab\"/></a>"
      ]
    },
    {
      "cell_type": "code",
      "source": [
        "!pip install mne"
      ],
      "metadata": {
        "colab": {
          "base_uri": "https://localhost:8080/"
        },
        "id": "AQSiEoedDCPu",
        "outputId": "5779a08f-4e75-47d9-ca76-db6d5d02431b"
      },
      "execution_count": 1,
      "outputs": [
        {
          "output_type": "stream",
          "name": "stdout",
          "text": [
            "Collecting mne\n",
            "  Downloading mne-1.5.1-py3-none-any.whl (7.7 MB)\n",
            "\u001b[2K     \u001b[90m━━━━━━━━━━━━━━━━━━━━━━━━━━━━━━━━━━━━━━━━\u001b[0m \u001b[32m7.7/7.7 MB\u001b[0m \u001b[31m48.5 MB/s\u001b[0m eta \u001b[36m0:00:00\u001b[0m\n",
            "\u001b[?25hRequirement already satisfied: numpy>=1.15.4 in /usr/local/lib/python3.10/dist-packages (from mne) (1.23.5)\n",
            "Requirement already satisfied: scipy>=1.6.3 in /usr/local/lib/python3.10/dist-packages (from mne) (1.11.3)\n",
            "Requirement already satisfied: matplotlib>=3.4.0 in /usr/local/lib/python3.10/dist-packages (from mne) (3.7.1)\n",
            "Requirement already satisfied: tqdm in /usr/local/lib/python3.10/dist-packages (from mne) (4.66.1)\n",
            "Requirement already satisfied: pooch>=1.5 in /usr/local/lib/python3.10/dist-packages (from mne) (1.8.0)\n",
            "Requirement already satisfied: decorator in /usr/local/lib/python3.10/dist-packages (from mne) (4.4.2)\n",
            "Requirement already satisfied: packaging in /usr/local/lib/python3.10/dist-packages (from mne) (23.2)\n",
            "Requirement already satisfied: jinja2 in /usr/local/lib/python3.10/dist-packages (from mne) (3.1.2)\n",
            "Requirement already satisfied: contourpy>=1.0.1 in /usr/local/lib/python3.10/dist-packages (from matplotlib>=3.4.0->mne) (1.2.0)\n",
            "Requirement already satisfied: cycler>=0.10 in /usr/local/lib/python3.10/dist-packages (from matplotlib>=3.4.0->mne) (0.12.1)\n",
            "Requirement already satisfied: fonttools>=4.22.0 in /usr/local/lib/python3.10/dist-packages (from matplotlib>=3.4.0->mne) (4.44.0)\n",
            "Requirement already satisfied: kiwisolver>=1.0.1 in /usr/local/lib/python3.10/dist-packages (from matplotlib>=3.4.0->mne) (1.4.5)\n",
            "Requirement already satisfied: pillow>=6.2.0 in /usr/local/lib/python3.10/dist-packages (from matplotlib>=3.4.0->mne) (9.4.0)\n",
            "Requirement already satisfied: pyparsing>=2.3.1 in /usr/local/lib/python3.10/dist-packages (from matplotlib>=3.4.0->mne) (3.1.1)\n",
            "Requirement already satisfied: python-dateutil>=2.7 in /usr/local/lib/python3.10/dist-packages (from matplotlib>=3.4.0->mne) (2.8.2)\n",
            "Requirement already satisfied: platformdirs>=2.5.0 in /usr/local/lib/python3.10/dist-packages (from pooch>=1.5->mne) (3.11.0)\n",
            "Requirement already satisfied: requests>=2.19.0 in /usr/local/lib/python3.10/dist-packages (from pooch>=1.5->mne) (2.31.0)\n",
            "Requirement already satisfied: MarkupSafe>=2.0 in /usr/local/lib/python3.10/dist-packages (from jinja2->mne) (2.1.3)\n",
            "Requirement already satisfied: six>=1.5 in /usr/local/lib/python3.10/dist-packages (from python-dateutil>=2.7->matplotlib>=3.4.0->mne) (1.16.0)\n",
            "Requirement already satisfied: charset-normalizer<4,>=2 in /usr/local/lib/python3.10/dist-packages (from requests>=2.19.0->pooch>=1.5->mne) (3.3.2)\n",
            "Requirement already satisfied: idna<4,>=2.5 in /usr/local/lib/python3.10/dist-packages (from requests>=2.19.0->pooch>=1.5->mne) (3.4)\n",
            "Requirement already satisfied: urllib3<3,>=1.21.1 in /usr/local/lib/python3.10/dist-packages (from requests>=2.19.0->pooch>=1.5->mne) (2.0.7)\n",
            "Requirement already satisfied: certifi>=2017.4.17 in /usr/local/lib/python3.10/dist-packages (from requests>=2.19.0->pooch>=1.5->mne) (2023.7.22)\n",
            "Installing collected packages: mne\n",
            "Successfully installed mne-1.5.1\n"
          ]
        }
      ]
    },
    {
      "cell_type": "code",
      "execution_count": 24,
      "metadata": {
        "id": "EPPCKjWeChJs"
      },
      "outputs": [],
      "source": [
        "from glob import glob\n",
        "import os\n",
        "import mne\n",
        "import pandas\n",
        "import numpy as np\n",
        "import matplotlib.pyplot as plt"
      ]
    },
    {
      "cell_type": "code",
      "source": [
        "data_path = \"/content/drive/MyDrive/Signal_Data/dataverse_files\""
      ],
      "metadata": {
        "id": "aom4xKvEC57E"
      },
      "execution_count": 3,
      "outputs": []
    },
    {
      "cell_type": "code",
      "source": [
        "all_file_path = glob(data_path+\"/*.edf\")\n",
        "print(len(all_file_path))"
      ],
      "metadata": {
        "colab": {
          "base_uri": "https://localhost:8080/"
        },
        "id": "e2ucexuQDWiH",
        "outputId": "f2b50057-5073-48f5-f4da-d730ab805e7d"
      },
      "execution_count": 4,
      "outputs": [
        {
          "output_type": "stream",
          "name": "stdout",
          "text": [
            "28\n"
          ]
        }
      ]
    },
    {
      "cell_type": "code",
      "source": [
        "all_file_path"
      ],
      "metadata": {
        "colab": {
          "base_uri": "https://localhost:8080/"
        },
        "id": "w0v0ajItDuXR",
        "outputId": "926d0194-3792-403e-b706-1a44288be1bf"
      },
      "execution_count": 5,
      "outputs": [
        {
          "output_type": "execute_result",
          "data": {
            "text/plain": [
              "['/content/drive/MyDrive/Signal_Data/dataverse_files/h12.edf',\n",
              " '/content/drive/MyDrive/Signal_Data/dataverse_files/h05.edf',\n",
              " '/content/drive/MyDrive/Signal_Data/dataverse_files/h06.edf',\n",
              " '/content/drive/MyDrive/Signal_Data/dataverse_files/h04.edf',\n",
              " '/content/drive/MyDrive/Signal_Data/dataverse_files/h08.edf',\n",
              " '/content/drive/MyDrive/Signal_Data/dataverse_files/h09.edf',\n",
              " '/content/drive/MyDrive/Signal_Data/dataverse_files/h11.edf',\n",
              " '/content/drive/MyDrive/Signal_Data/dataverse_files/h02.edf',\n",
              " '/content/drive/MyDrive/Signal_Data/dataverse_files/h07.edf',\n",
              " '/content/drive/MyDrive/Signal_Data/dataverse_files/h03.edf',\n",
              " '/content/drive/MyDrive/Signal_Data/dataverse_files/h01.edf',\n",
              " '/content/drive/MyDrive/Signal_Data/dataverse_files/h10.edf',\n",
              " '/content/drive/MyDrive/Signal_Data/dataverse_files/s01.edf',\n",
              " '/content/drive/MyDrive/Signal_Data/dataverse_files/s07.edf',\n",
              " '/content/drive/MyDrive/Signal_Data/dataverse_files/h13.edf',\n",
              " '/content/drive/MyDrive/Signal_Data/dataverse_files/h14.edf',\n",
              " '/content/drive/MyDrive/Signal_Data/dataverse_files/s05.edf',\n",
              " '/content/drive/MyDrive/Signal_Data/dataverse_files/s04.edf',\n",
              " '/content/drive/MyDrive/Signal_Data/dataverse_files/s06.edf',\n",
              " '/content/drive/MyDrive/Signal_Data/dataverse_files/s03.edf',\n",
              " '/content/drive/MyDrive/Signal_Data/dataverse_files/s09.edf',\n",
              " '/content/drive/MyDrive/Signal_Data/dataverse_files/s08.edf',\n",
              " '/content/drive/MyDrive/Signal_Data/dataverse_files/s02.edf',\n",
              " '/content/drive/MyDrive/Signal_Data/dataverse_files/s11.edf',\n",
              " '/content/drive/MyDrive/Signal_Data/dataverse_files/s14.edf',\n",
              " '/content/drive/MyDrive/Signal_Data/dataverse_files/s12.edf',\n",
              " '/content/drive/MyDrive/Signal_Data/dataverse_files/s10.edf',\n",
              " '/content/drive/MyDrive/Signal_Data/dataverse_files/s13.edf']"
            ]
          },
          "metadata": {},
          "execution_count": 5
        }
      ]
    },
    {
      "cell_type": "code",
      "source": [
        "healthy_file_path = []\n",
        "patient_file_path = []\n",
        "\n",
        "for i in all_file_path:\n",
        "  if str(os.path.basename(i))[0] == 'h':\n",
        "    healthy_file_path.append(i)\n",
        "  else:\n",
        "    patient_file_path.append(i)"
      ],
      "metadata": {
        "id": "GlVpNrHSFTNR"
      },
      "execution_count": 6,
      "outputs": []
    },
    {
      "cell_type": "code",
      "source": [
        "def read_data(file_path):\n",
        "  data = mne.io.read_raw_edf(file_path, preload=True)\n",
        "  data.set_eeg_reference()\n",
        "  data.filter(l_freq=0.5,h_freq=45)\n",
        "  epochs=mne.make_fixed_length_epochs(data,duration=5,overlap=1)\n",
        "  array=epochs.get_data()\n",
        "  return array"
      ],
      "metadata": {
        "id": "DgXGbLeIF3DY"
      },
      "execution_count": 7,
      "outputs": []
    },
    {
      "cell_type": "code",
      "source": [
        "\n",
        "sample_data = read_data(healthy_file_path[0])"
      ],
      "metadata": {
        "colab": {
          "base_uri": "https://localhost:8080/"
        },
        "id": "r0QKAcRxkGCs",
        "outputId": "933f1c14-ea1d-4542-f1e2-763847401775"
      },
      "execution_count": 9,
      "outputs": [
        {
          "output_type": "stream",
          "name": "stdout",
          "text": [
            "Extracting EDF parameters from /content/drive/MyDrive/Signal_Data/dataverse_files/h12.edf...\n",
            "EDF file detected\n",
            "Setting channel info structure...\n",
            "Creating raw.info structure...\n",
            "Reading 0 ... 224999  =      0.000 ...   899.996 secs...\n",
            "EEG channel type selected for re-referencing\n",
            "Applying average reference.\n",
            "Applying a custom ('EEG',) reference.\n",
            "Filtering raw data in 1 contiguous segment\n",
            "Setting up band-pass filter from 0.5 - 45 Hz\n",
            "\n",
            "FIR filter parameters\n",
            "---------------------\n",
            "Designing a one-pass, zero-phase, non-causal bandpass filter:\n",
            "- Windowed time-domain design (firwin) method\n",
            "- Hamming window with 0.0194 passband ripple and 53 dB stopband attenuation\n",
            "- Lower passband edge: 0.50\n",
            "- Lower transition bandwidth: 0.50 Hz (-6 dB cutoff frequency: 0.25 Hz)\n",
            "- Upper passband edge: 45.00 Hz\n",
            "- Upper transition bandwidth: 11.25 Hz (-6 dB cutoff frequency: 50.62 Hz)\n",
            "- Filter length: 1651 samples (6.604 s)\n",
            "\n",
            "Not setting metadata\n",
            "224 matching events found\n",
            "No baseline correction applied\n",
            "0 projection items activated\n",
            "Using data from preloaded Raw for 224 events and 1250 original time points ...\n",
            "0 bad epochs dropped\n"
          ]
        },
        {
          "output_type": "stream",
          "name": "stderr",
          "text": [
            "[Parallel(n_jobs=1)]: Done  17 tasks      | elapsed:    0.2s\n"
          ]
        }
      ]
    },
    {
      "cell_type": "code",
      "source": [
        "sample_data.shape   #epochs,channels, length of signals"
      ],
      "metadata": {
        "colab": {
          "base_uri": "https://localhost:8080/"
        },
        "id": "WAUwgK8RlO-L",
        "outputId": "ba7c7c63-3e03-4bd9-de05-49e4dbb189a3"
      },
      "execution_count": 10,
      "outputs": [
        {
          "output_type": "execute_result",
          "data": {
            "text/plain": [
              "(224, 19, 1250)"
            ]
          },
          "metadata": {},
          "execution_count": 10
        }
      ]
    },
    {
      "cell_type": "code",
      "source": [
        "%%capture\n",
        "control_epochs_array = []\n",
        "patient_epochs_array = []\n",
        "\n",
        "for i in healthy_file_path:\n",
        "  control_epochs_array.append(read_data(i))\n",
        "\n",
        "for i in patient_file_path:\n",
        "  patient_epochs_array.append(read_data(i))"
      ],
      "metadata": {
        "id": "CF-K72Blr6uI"
      },
      "execution_count": 12,
      "outputs": []
    },
    {
      "cell_type": "code",
      "source": [
        "control_epochs_array[0].shape"
      ],
      "metadata": {
        "colab": {
          "base_uri": "https://localhost:8080/"
        },
        "id": "q_NcNYjXtabF",
        "outputId": "889a851f-abfb-482e-b958-54645c911452"
      },
      "execution_count": 13,
      "outputs": [
        {
          "output_type": "execute_result",
          "data": {
            "text/plain": [
              "(224, 19, 1250)"
            ]
          },
          "metadata": {},
          "execution_count": 13
        }
      ]
    },
    {
      "cell_type": "code",
      "source": [
        "patient_epochs_array[0].shape"
      ],
      "metadata": {
        "id": "jGbaFskwt8bt",
        "outputId": "990de08e-fdaf-44df-f72a-14384bf90c68",
        "colab": {
          "base_uri": "https://localhost:8080/"
        }
      },
      "execution_count": 14,
      "outputs": [
        {
          "output_type": "execute_result",
          "data": {
            "text/plain": [
              "(211, 19, 1250)"
            ]
          },
          "metadata": {},
          "execution_count": 14
        }
      ]
    },
    {
      "cell_type": "code",
      "source": [],
      "metadata": {
        "id": "asgAbkcrBedl"
      },
      "execution_count": null,
      "outputs": []
    },
    {
      "cell_type": "code",
      "source": [
        "\n",
        "#labeling control as 0. -> Unhealthy\n",
        "control_epochs_label = []\n",
        "for i in control_epochs_array:\n",
        "  control_epochs_label.append(len(i)*[0])\n",
        "\n",
        "\n",
        "#labeling healthy as 1. -> Unhealthy\n",
        "patient_epochs_label = []\n",
        "for i in patient_epochs_array:\n",
        "  patient_epochs_label.append(len(i)*[1])"
      ],
      "metadata": {
        "id": "4ylz3yawt_bG"
      },
      "execution_count": 19,
      "outputs": []
    },
    {
      "cell_type": "code",
      "source": [
        "data_list=control_epochs_array+patient_epochs_array\n",
        "label_list=control_epochs_label+patient_epochs_label"
      ],
      "metadata": {
        "id": "dsLjlDDmCVD3"
      },
      "execution_count": 20,
      "outputs": []
    },
    {
      "cell_type": "code",
      "source": [
        "#spliting data as subject, makig group for each subject\n",
        "\n",
        "group_list = []\n",
        "\n",
        "\n",
        "for i,j in enumerate(data_list):\n",
        "  group_list.append([i]*len(j))\n",
        "\n",
        "len(group_list)\n",
        "\n",
        "\n"
      ],
      "metadata": {
        "colab": {
          "base_uri": "https://localhost:8080/"
        },
        "id": "B6V45zXkDIEU",
        "outputId": "15e88ee7-1d98-4ef0-8f02-2e7a331580d5"
      },
      "execution_count": 22,
      "outputs": [
        {
          "output_type": "execute_result",
          "data": {
            "text/plain": [
              "28"
            ]
          },
          "metadata": {},
          "execution_count": 22
        }
      ]
    },
    {
      "cell_type": "code",
      "source": [
        "data_array = np.vstack(data_list)\n",
        "label_array = np.hstack(label_list)\n",
        "group_array = np.hstack(group_list)\n",
        "data_array.shape,label_array.shape,group_array.shape"
      ],
      "metadata": {
        "colab": {
          "base_uri": "https://localhost:8080/"
        },
        "id": "C9n27rwCDzLJ",
        "outputId": "e7644731-728b-4aec-e33b-912de33e40c2"
      },
      "execution_count": 27,
      "outputs": [
        {
          "output_type": "execute_result",
          "data": {
            "text/plain": [
              "((7201, 19, 1250), (7201,), (7201,))"
            ]
          },
          "metadata": {},
          "execution_count": 27
        }
      ]
    },
    {
      "cell_type": "code",
      "source": [],
      "metadata": {
        "id": "YWShpNhNES7B"
      },
      "execution_count": null,
      "outputs": []
    }
  ]
}